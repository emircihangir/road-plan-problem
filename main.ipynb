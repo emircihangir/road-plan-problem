{
 "cells": [
  {
   "cell_type": "code",
   "execution_count": 1,
   "metadata": {},
   "outputs": [],
   "source": [
    "# libraries\n",
    "from IPython.display import display, HTML\n",
    "import pickle\n",
    "import numpy as np\n",
    "import pandas\n",
    "import random\n",
    "import matplotlib.pyplot as plt\n",
    "import plotly.graph_objects as go\n",
    "import math\n",
    "import datetime\n",
    "\n",
    "np.set_printoptions(precision=2, suppress=True, floatmode='fixed')"
   ]
  },
  {
   "cell_type": "code",
   "execution_count": 2,
   "metadata": {},
   "outputs": [],
   "source": [
    "# problem definition\n",
    "destinations = list('abcdefghijklmno'.upper())\n",
    "\n",
    "with open('destination_coordinates.pkl', 'rb') as file:\n",
    "    destination_coordinates = pickle.load(file)\n",
    "\n",
    "with open('distances.pkl', 'rb') as file:\n",
    "    distances = pickle.load(file)\n",
    "    \n",
    "distancesDF = pandas.DataFrame(data=distances, columns=destinations, index=destinations)"
   ]
  },
  {
   "cell_type": "code",
   "execution_count": 3,
   "metadata": {},
   "outputs": [],
   "source": [
    "# variables\n",
    "\n",
    "# each row is a 1D array that represents an individual.\n",
    "# the array's values in order:\n",
    "# first 15 -> genes\n",
    "# 16th -> generation number\n",
    "# 17th -> fitness_score\n",
    "population = np.array(np.zeros(shape=(500000,17), dtype=np.float16), dtype=np.float16)\n",
    "min_distance_so_far = 100\n",
    "last_individual_index = -1\n",
    "mutation_possibility = 0.02\n",
    "started_evolution_at = None"
   ]
  },
  {
   "cell_type": "code",
   "execution_count": 4,
   "metadata": {},
   "outputs": [],
   "source": [
    "def get_fitness_score(chromosome):\n",
    "    score = np.float16(0)\n",
    "    \n",
    "    for a in range(1, 14):\n",
    "        score += np.float16(distances[np.where(chromosome == a)[0][0]][np.where(chromosome == a + 1)[0][0]])\n",
    "    \n",
    "    return score"
   ]
  },
  {
   "cell_type": "code",
   "execution_count": 5,
   "metadata": {},
   "outputs": [],
   "source": [
    "def random_chromosome():\n",
    "    chromosome = np.array(list(range(1,16)))\n",
    "    np.random.shuffle(chromosome)\n",
    "    return chromosome"
   ]
  },
  {
   "cell_type": "code",
   "execution_count": 6,
   "metadata": {},
   "outputs": [],
   "source": [
    "def get_resulting_path(chromosome):\n",
    "    score = np.array(np.empty(shape=(15,), dtype=np.str_), dtype=np.str_)\n",
    "    \n",
    "    for a in range(1, 16):\n",
    "        score[a - 1] = np.str_(destinations[np.where(chromosome == a)[0][0]])\n",
    "    \n",
    "    return score"
   ]
  },
  {
   "cell_type": "code",
   "execution_count": 7,
   "metadata": {},
   "outputs": [],
   "source": [
    "def make_individual(chromosome):\n",
    "    global last_individual_index\n",
    "    global best_individuals_index\n",
    "    global started_evolution_at\n",
    "    global parent_pool\n",
    "    global min_distance_so_far\n",
    "    \n",
    "    individual_index = last_individual_index + 1\n",
    "    \n",
    "    population[individual_index, :15] = chromosome\n",
    "    \n",
    "    fitness_score = get_fitness_score(chromosome) # type: ignore\n",
    "    \n",
    "    population[individual_index, 15] = math.ceil((individual_index + 1)/100)\n",
    "    population[individual_index, 16] = fitness_score\n",
    "    \n",
    "    if started_evolution_at != None and fitness_score < min_distance_so_far:\n",
    "        min_distance_so_far = fitness_score\n",
    "        print(f'minimum path length so far: {fitness_score} \\nresulting path of it: {get_resulting_path(chromosome)} \\nfound after {(datetime.datetime.now() - started_evolution_at).total_seconds()} seconds \\n') # type: ignore\n",
    "        best_individuals_index = individual_index\n",
    "    \n",
    "    last_individual_index += 1"
   ]
  },
  {
   "cell_type": "code",
   "execution_count": 8,
   "metadata": {},
   "outputs": [],
   "source": [
    "for _ in range(100): make_individual(chromosome=random_chromosome())"
   ]
  },
  {
   "cell_type": "code",
   "execution_count": 13,
   "metadata": {},
   "outputs": [
    {
     "data": {
      "image/png": "[encoded data removed]",
      "text/plain": [
       "<Figure size 640x480 with 1 Axes>"
      ]
     },
     "metadata": {},
     "output_type": "display_data"
    }
   ],
   "source": [
    "def select_individuals_to_mate():\n",
    "    global last_individual_index\n",
    "    \n",
    "    population_fitness_scores = population[:last_individual_index + 1, 16].astype(np.float64)\n",
    "    probabilities = population_fitness_scores * -1 + np.max(population_fitness_scores) + 1\n",
    "    probabilities /= np.sum(probabilities)\n",
    "    plt.ylim(-1,1)\n",
    "    plt.scatter(x=list(range(len(population_fitness_scores))), y=probabilities)\n",
    "\n",
    "    #return population[np.random.choice(population[:last_individual_index + 1].shape[0], size=2, p=probabilities, replace=False)]\n",
    "select_individuals_to_mate()"
   ]
  },
  {
   "cell_type": "code",
   "execution_count": null,
   "metadata": {},
   "outputs": [],
   "source": [
    "def pmx_crossover(parent1, parent2):\n",
    "    child1 = np.array(np.zeros(15, dtype=np.float16), dtype=np.float16)\n",
    "    child2 = np.array(np.zeros(15, dtype=np.float16), dtype=np.float16)\n",
    "    \n",
    "    b = np.array(list(range(2,13)))\n",
    "    np.random.shuffle(b)\n",
    "    slice_point1,slice_point2 = np.sort(b)[:2]\n",
    "    \n",
    "    child1[slice_point1:slice_point2] = parent2[slice_point1:slice_point2]\n",
    "    child2[slice_point1:slice_point2] = parent1[slice_point1:slice_point2]\n",
    "    \n",
    "    # fill child1's remaining genes with parent1\n",
    "    for i in range(15):\n",
    "        if child1[i] != 0: continue\n",
    "        \n",
    "        value_to_fill = parent1[i]\n",
    "        \n",
    "        while value_to_fill in child1:\n",
    "            value_to_fill = child2[np.where(child1 == value_to_fill)[0][0]]\n",
    "            \n",
    "        child1[i] = value_to_fill\n",
    "    \n",
    "    # fill child1's remaining genes with parent1\n",
    "    for i in range(15):\n",
    "        if child2[i] != 0: continue\n",
    "        \n",
    "        value_to_fill = parent2[i]\n",
    "        \n",
    "        while value_to_fill in child2:\n",
    "            value_to_fill = child1[np.where(child2 == value_to_fill)[0][0]]\n",
    "            \n",
    "        child2[i] = value_to_fill\n",
    "    \n",
    "    # mutate the children with a possibility\n",
    "    if random.random() < mutation_possibility:\n",
    "        rpl = np.array(list(range(15)))\n",
    "        np.random.shuffle(rpl)\n",
    "        rp1, rp2 = rpl[:2]\n",
    "        child1[rp1], child1[rp2] = child1[rp2], child1[rp1]\n",
    "    \n",
    "    if random.random() < mutation_possibility:\n",
    "        rpl = np.array(list(range(15)))\n",
    "        np.random.shuffle(rpl)\n",
    "        rp1, rp2 = rpl[:2]\n",
    "        child2[rp1], child2[rp2] = child2[rp2], child2[rp1]\n",
    "    \n",
    "    return child1, child2"
   ]
  },
  {
   "cell_type": "code",
   "execution_count": null,
   "metadata": {},
   "outputs": [],
   "source": [
    "# start the evolution\n",
    "started_evolution_at = datetime.datetime.now()\n",
    "for _ in range(100): make_individual(chromosome=random_chromosome())\n",
    "try:\n",
    "    while True:\n",
    "        for _ in range(50): # make 100 children.\n",
    "            individuals_to_mate = select_individuals_to_mate()\n",
    "            child1_chromosome, child2_chromosome = pmx_crossover(individuals_to_mate[0][:15], individuals_to_mate[1][:15])\n",
    "            make_individual(chromosome=child1_chromosome)\n",
    "            make_individual(chromosome=child2_chromosome)\n",
    "            \n",
    "        if last_individual_index - best_individuals_index > 400 and mutation_possibility < 0.4:\n",
    "            mutation_possibility += 0.1\n",
    "\n",
    "except KeyboardInterrupt: print('finished.')"
   ]
  },
  {
   "cell_type": "code",
   "execution_count": null,
   "metadata": {},
   "outputs": [],
   "source": [
    "last_individual_index"
   ]
  },
  {
   "cell_type": "code",
   "execution_count": null,
   "metadata": {},
   "outputs": [],
   "source": [
    "population[:last_individual_index + 1, 16]"
   ]
  }
 ],
 "metadata": {
  "kernelspec": {
   "display_name": "Python 3",
   "language": "python",
   "name": "python3"
  },
  "language_info": {
   "codemirror_mode": {
    "name": "ipython",
    "version": 3
   },
   "file_extension": ".py",
   "mimetype": "text/x-python",
   "name": "python",
   "nbconvert_exporter": "python",
   "pygments_lexer": "ipython3",
   "version": "3.12.4"
  }
 },
 "nbformat": 4,
 "nbformat_minor": 2
}